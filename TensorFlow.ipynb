{
  "nbformat": 4,
  "nbformat_minor": 0,
  "metadata": {
    "colab": {
      "provenance": [],
      "toc_visible": true,
      "gpuType": "T4",
      "authorship_tag": "ABX9TyNiG9Szgne82iVJy3dV285y",
      "include_colab_link": true
    },
    "kernelspec": {
      "name": "python3",
      "display_name": "Python 3"
    },
    "language_info": {
      "name": "python"
    },
    "accelerator": "GPU"
  },
  "cells": [
    {
      "cell_type": "markdown",
      "metadata": {
        "id": "view-in-github",
        "colab_type": "text"
      },
      "source": [
        "<a href=\"https://colab.research.google.com/github/Arbues/PAM_proyect/blob/main/TensorFlow.ipynb\" target=\"_parent\"><img src=\"https://colab.research.google.com/assets/colab-badge.svg\" alt=\"Open In Colab\"/></a>"
      ]
    },
    {
      "cell_type": "markdown",
      "source": [
        "# Tensorflow\n",
        "###Tensor:\n",
        "Matrix multidimensional que tiene la capacidad de ejecutarse en la gpu\n",
        "Ejemplo de un tensor en diferentes dimensiones:\n",
        "![](https://i.imgur.com/cWtTjDh.png)"
      ],
      "metadata": {
        "id": "dUodOOt7UdcS"
      }
    },
    {
      "cell_type": "markdown",
      "source": [
        "# Redes Neuronales\n",
        "### Importaciones y carga de datos:"
      ],
      "metadata": {
        "id": "-QN7fuQowvZb"
      }
    },
    {
      "cell_type": "code",
      "source": [
        "import os\n",
        "import matplotlib.pyplot as plt\n",
        "os.environ['TF_CPP_MIN_LOG_LEVEL']='2'\n",
        "import tensorflow as tf\n",
        "from tensorflow import keras\n",
        "from tensorflow.keras import layers\n",
        "from tensorflow.keras.datasets import mnist\n",
        "(x_train,y_train),(x_test,y_test)=mnist.load_data()\n"
      ],
      "metadata": {
        "colab": {
          "base_uri": "https://localhost:8080/"
        },
        "id": "ch7iTVafXb8Z",
        "outputId": "9ff85cca-30d7-43c7-eede-02f878ee27af"
      },
      "execution_count": null,
      "outputs": [
        {
          "output_type": "stream",
          "name": "stdout",
          "text": [
            "Downloading data from https://storage.googleapis.com/tensorflow/tf-keras-datasets/mnist.npz\n",
            "11490434/11490434 [==============================] - 0s 0us/step\n"
          ]
        }
      ]
    },
    {
      "cell_type": "markdown",
      "source": [
        "### Analisis de los datos:\n",
        "Comprederemos la estructura y las características de los datos con los que estás trabajando antes de realizar cualquier análisis o entrenar un modelo de aprendizaje automático."
      ],
      "metadata": {
        "id": "gHR2QLJgzZDy"
      }
    },
    {
      "cell_type": "code",
      "source": [
        "import pandas as pd\n",
        "\n",
        "# Crear un DataFrame para mostrar la información\n",
        "data = {\n",
        "    'Variable': ['x_train', 'y_train', 'x_test', 'y_test'],\n",
        "    'Tipo de Dato': [type(x_train), type(y_train), type(x_test), type(y_test)],\n",
        "    'Forma': [x_train.shape, y_train.shape, x_test.shape, y_test.shape],\n",
        "    'Tipo de Datos': [x_train.dtype, y_train.dtype, x_test.dtype, y_test.dtype],\n",
        "    'Máximo Valor': [x_train.max(), y_train.max(), x_test.max(), y_test.max()]\n",
        "}\n",
        "\n",
        "df = pd.DataFrame(data)\n",
        "\n",
        "# Mostrar el DataFrame\n",
        "df"
      ],
      "metadata": {
        "colab": {
          "base_uri": "https://localhost:8080/",
          "height": 175
        },
        "id": "WKGknnOo2nX6",
        "outputId": "1909e886-ee36-46bb-96d3-d40b5f970e93"
      },
      "execution_count": null,
      "outputs": [
        {
          "output_type": "execute_result",
          "data": {
            "text/plain": [
              "  Variable             Tipo de Dato            Forma Tipo de Datos  \\\n",
              "0  x_train  <class 'numpy.ndarray'>  (60000, 28, 28)         uint8   \n",
              "1  y_train  <class 'numpy.ndarray'>         (60000,)         uint8   \n",
              "2   x_test  <class 'numpy.ndarray'>  (10000, 28, 28)         uint8   \n",
              "3   y_test  <class 'numpy.ndarray'>         (10000,)         uint8   \n",
              "\n",
              "   Máximo Valor  \n",
              "0           255  \n",
              "1             9  \n",
              "2           255  \n",
              "3             9  "
            ],
            "text/html": [
              "\n",
              "  <div id=\"df-11305ea7-b988-4adb-8410-b1d7aaeca8da\" class=\"colab-df-container\">\n",
              "    <div>\n",
              "<style scoped>\n",
              "    .dataframe tbody tr th:only-of-type {\n",
              "        vertical-align: middle;\n",
              "    }\n",
              "\n",
              "    .dataframe tbody tr th {\n",
              "        vertical-align: top;\n",
              "    }\n",
              "\n",
              "    .dataframe thead th {\n",
              "        text-align: right;\n",
              "    }\n",
              "</style>\n",
              "<table border=\"1\" class=\"dataframe\">\n",
              "  <thead>\n",
              "    <tr style=\"text-align: right;\">\n",
              "      <th></th>\n",
              "      <th>Variable</th>\n",
              "      <th>Tipo de Dato</th>\n",
              "      <th>Forma</th>\n",
              "      <th>Tipo de Datos</th>\n",
              "      <th>Máximo Valor</th>\n",
              "    </tr>\n",
              "  </thead>\n",
              "  <tbody>\n",
              "    <tr>\n",
              "      <th>0</th>\n",
              "      <td>x_train</td>\n",
              "      <td>&lt;class 'numpy.ndarray'&gt;</td>\n",
              "      <td>(60000, 28, 28)</td>\n",
              "      <td>uint8</td>\n",
              "      <td>255</td>\n",
              "    </tr>\n",
              "    <tr>\n",
              "      <th>1</th>\n",
              "      <td>y_train</td>\n",
              "      <td>&lt;class 'numpy.ndarray'&gt;</td>\n",
              "      <td>(60000,)</td>\n",
              "      <td>uint8</td>\n",
              "      <td>9</td>\n",
              "    </tr>\n",
              "    <tr>\n",
              "      <th>2</th>\n",
              "      <td>x_test</td>\n",
              "      <td>&lt;class 'numpy.ndarray'&gt;</td>\n",
              "      <td>(10000, 28, 28)</td>\n",
              "      <td>uint8</td>\n",
              "      <td>255</td>\n",
              "    </tr>\n",
              "    <tr>\n",
              "      <th>3</th>\n",
              "      <td>y_test</td>\n",
              "      <td>&lt;class 'numpy.ndarray'&gt;</td>\n",
              "      <td>(10000,)</td>\n",
              "      <td>uint8</td>\n",
              "      <td>9</td>\n",
              "    </tr>\n",
              "  </tbody>\n",
              "</table>\n",
              "</div>\n",
              "    <div class=\"colab-df-buttons\">\n",
              "\n",
              "  <div class=\"colab-df-container\">\n",
              "    <button class=\"colab-df-convert\" onclick=\"convertToInteractive('df-11305ea7-b988-4adb-8410-b1d7aaeca8da')\"\n",
              "            title=\"Convert this dataframe to an interactive table.\"\n",
              "            style=\"display:none;\">\n",
              "\n",
              "  <svg xmlns=\"http://www.w3.org/2000/svg\" height=\"24px\" viewBox=\"0 -960 960 960\">\n",
              "    <path d=\"M120-120v-720h720v720H120Zm60-500h600v-160H180v160Zm220 220h160v-160H400v160Zm0 220h160v-160H400v160ZM180-400h160v-160H180v160Zm440 0h160v-160H620v160ZM180-180h160v-160H180v160Zm440 0h160v-160H620v160Z\"/>\n",
              "  </svg>\n",
              "    </button>\n",
              "\n",
              "  <style>\n",
              "    .colab-df-container {\n",
              "      display:flex;\n",
              "      gap: 12px;\n",
              "    }\n",
              "\n",
              "    .colab-df-convert {\n",
              "      background-color: #E8F0FE;\n",
              "      border: none;\n",
              "      border-radius: 50%;\n",
              "      cursor: pointer;\n",
              "      display: none;\n",
              "      fill: #1967D2;\n",
              "      height: 32px;\n",
              "      padding: 0 0 0 0;\n",
              "      width: 32px;\n",
              "    }\n",
              "\n",
              "    .colab-df-convert:hover {\n",
              "      background-color: #E2EBFA;\n",
              "      box-shadow: 0px 1px 2px rgba(60, 64, 67, 0.3), 0px 1px 3px 1px rgba(60, 64, 67, 0.15);\n",
              "      fill: #174EA6;\n",
              "    }\n",
              "\n",
              "    .colab-df-buttons div {\n",
              "      margin-bottom: 4px;\n",
              "    }\n",
              "\n",
              "    [theme=dark] .colab-df-convert {\n",
              "      background-color: #3B4455;\n",
              "      fill: #D2E3FC;\n",
              "    }\n",
              "\n",
              "    [theme=dark] .colab-df-convert:hover {\n",
              "      background-color: #434B5C;\n",
              "      box-shadow: 0px 1px 3px 1px rgba(0, 0, 0, 0.15);\n",
              "      filter: drop-shadow(0px 1px 2px rgba(0, 0, 0, 0.3));\n",
              "      fill: #FFFFFF;\n",
              "    }\n",
              "  </style>\n",
              "\n",
              "    <script>\n",
              "      const buttonEl =\n",
              "        document.querySelector('#df-11305ea7-b988-4adb-8410-b1d7aaeca8da button.colab-df-convert');\n",
              "      buttonEl.style.display =\n",
              "        google.colab.kernel.accessAllowed ? 'block' : 'none';\n",
              "\n",
              "      async function convertToInteractive(key) {\n",
              "        const element = document.querySelector('#df-11305ea7-b988-4adb-8410-b1d7aaeca8da');\n",
              "        const dataTable =\n",
              "          await google.colab.kernel.invokeFunction('convertToInteractive',\n",
              "                                                    [key], {});\n",
              "        if (!dataTable) return;\n",
              "\n",
              "        const docLinkHtml = 'Like what you see? Visit the ' +\n",
              "          '<a target=\"_blank\" href=https://colab.research.google.com/notebooks/data_table.ipynb>data table notebook</a>'\n",
              "          + ' to learn more about interactive tables.';\n",
              "        element.innerHTML = '';\n",
              "        dataTable['output_type'] = 'display_data';\n",
              "        await google.colab.output.renderOutput(dataTable, element);\n",
              "        const docLink = document.createElement('div');\n",
              "        docLink.innerHTML = docLinkHtml;\n",
              "        element.appendChild(docLink);\n",
              "      }\n",
              "    </script>\n",
              "  </div>\n",
              "\n",
              "\n",
              "<div id=\"df-6d317789-88a5-42b3-a7c9-02ac1e05447a\">\n",
              "  <button class=\"colab-df-quickchart\" onclick=\"quickchart('df-6d317789-88a5-42b3-a7c9-02ac1e05447a')\"\n",
              "            title=\"Suggest charts\"\n",
              "            style=\"display:none;\">\n",
              "\n",
              "<svg xmlns=\"http://www.w3.org/2000/svg\" height=\"24px\"viewBox=\"0 0 24 24\"\n",
              "     width=\"24px\">\n",
              "    <g>\n",
              "        <path d=\"M19 3H5c-1.1 0-2 .9-2 2v14c0 1.1.9 2 2 2h14c1.1 0 2-.9 2-2V5c0-1.1-.9-2-2-2zM9 17H7v-7h2v7zm4 0h-2V7h2v10zm4 0h-2v-4h2v4z\"/>\n",
              "    </g>\n",
              "</svg>\n",
              "  </button>\n",
              "\n",
              "<style>\n",
              "  .colab-df-quickchart {\n",
              "      --bg-color: #E8F0FE;\n",
              "      --fill-color: #1967D2;\n",
              "      --hover-bg-color: #E2EBFA;\n",
              "      --hover-fill-color: #174EA6;\n",
              "      --disabled-fill-color: #AAA;\n",
              "      --disabled-bg-color: #DDD;\n",
              "  }\n",
              "\n",
              "  [theme=dark] .colab-df-quickchart {\n",
              "      --bg-color: #3B4455;\n",
              "      --fill-color: #D2E3FC;\n",
              "      --hover-bg-color: #434B5C;\n",
              "      --hover-fill-color: #FFFFFF;\n",
              "      --disabled-bg-color: #3B4455;\n",
              "      --disabled-fill-color: #666;\n",
              "  }\n",
              "\n",
              "  .colab-df-quickchart {\n",
              "    background-color: var(--bg-color);\n",
              "    border: none;\n",
              "    border-radius: 50%;\n",
              "    cursor: pointer;\n",
              "    display: none;\n",
              "    fill: var(--fill-color);\n",
              "    height: 32px;\n",
              "    padding: 0;\n",
              "    width: 32px;\n",
              "  }\n",
              "\n",
              "  .colab-df-quickchart:hover {\n",
              "    background-color: var(--hover-bg-color);\n",
              "    box-shadow: 0 1px 2px rgba(60, 64, 67, 0.3), 0 1px 3px 1px rgba(60, 64, 67, 0.15);\n",
              "    fill: var(--button-hover-fill-color);\n",
              "  }\n",
              "\n",
              "  .colab-df-quickchart-complete:disabled,\n",
              "  .colab-df-quickchart-complete:disabled:hover {\n",
              "    background-color: var(--disabled-bg-color);\n",
              "    fill: var(--disabled-fill-color);\n",
              "    box-shadow: none;\n",
              "  }\n",
              "\n",
              "  .colab-df-spinner {\n",
              "    border: 2px solid var(--fill-color);\n",
              "    border-color: transparent;\n",
              "    border-bottom-color: var(--fill-color);\n",
              "    animation:\n",
              "      spin 1s steps(1) infinite;\n",
              "  }\n",
              "\n",
              "  @keyframes spin {\n",
              "    0% {\n",
              "      border-color: transparent;\n",
              "      border-bottom-color: var(--fill-color);\n",
              "      border-left-color: var(--fill-color);\n",
              "    }\n",
              "    20% {\n",
              "      border-color: transparent;\n",
              "      border-left-color: var(--fill-color);\n",
              "      border-top-color: var(--fill-color);\n",
              "    }\n",
              "    30% {\n",
              "      border-color: transparent;\n",
              "      border-left-color: var(--fill-color);\n",
              "      border-top-color: var(--fill-color);\n",
              "      border-right-color: var(--fill-color);\n",
              "    }\n",
              "    40% {\n",
              "      border-color: transparent;\n",
              "      border-right-color: var(--fill-color);\n",
              "      border-top-color: var(--fill-color);\n",
              "    }\n",
              "    60% {\n",
              "      border-color: transparent;\n",
              "      border-right-color: var(--fill-color);\n",
              "    }\n",
              "    80% {\n",
              "      border-color: transparent;\n",
              "      border-right-color: var(--fill-color);\n",
              "      border-bottom-color: var(--fill-color);\n",
              "    }\n",
              "    90% {\n",
              "      border-color: transparent;\n",
              "      border-bottom-color: var(--fill-color);\n",
              "    }\n",
              "  }\n",
              "</style>\n",
              "\n",
              "  <script>\n",
              "    async function quickchart(key) {\n",
              "      const quickchartButtonEl =\n",
              "        document.querySelector('#' + key + ' button');\n",
              "      quickchartButtonEl.disabled = true;  // To prevent multiple clicks.\n",
              "      quickchartButtonEl.classList.add('colab-df-spinner');\n",
              "      try {\n",
              "        const charts = await google.colab.kernel.invokeFunction(\n",
              "            'suggestCharts', [key], {});\n",
              "      } catch (error) {\n",
              "        console.error('Error during call to suggestCharts:', error);\n",
              "      }\n",
              "      quickchartButtonEl.classList.remove('colab-df-spinner');\n",
              "      quickchartButtonEl.classList.add('colab-df-quickchart-complete');\n",
              "    }\n",
              "    (() => {\n",
              "      let quickchartButtonEl =\n",
              "        document.querySelector('#df-6d317789-88a5-42b3-a7c9-02ac1e05447a button');\n",
              "      quickchartButtonEl.style.display =\n",
              "        google.colab.kernel.accessAllowed ? 'block' : 'none';\n",
              "    })();\n",
              "  </script>\n",
              "</div>\n",
              "    </div>\n",
              "  </div>\n"
            ]
          },
          "metadata": {},
          "execution_count": 2
        }
      ]
    },
    {
      "cell_type": "markdown",
      "source": [
        "Observaremos quue cada numero escrito a mano esta representado por una matrix 28*28:\n"
      ],
      "metadata": {
        "id": "b1tSlJQflyeH"
      }
    },
    {
      "cell_type": "code",
      "source": [
        "import random\n",
        "random_index = random.randint(0, len(x_train) - 1)\n",
        "\n",
        "# Muestra la imagen correspondiente al índice seleccionado\n",
        "plt.imshow(x_train[random_index], cmap='gray')  # cmap='gray' muestra la imagen en escala de grises\n",
        "plt.title(f\"Etiqueta: {y_train[random_index]}\")  # Muestra la etiqueta correspondiente a la imagen\n",
        "plt.axis('off')  # Desactiva los ejes\n",
        "plt.show()"
      ],
      "metadata": {
        "colab": {
          "base_uri": "https://localhost:8080/",
          "height": 428
        },
        "id": "V3DSObPqjD79",
        "outputId": "3061960b-4802-43cb-8e2b-51e8c1507f92"
      },
      "execution_count": null,
      "outputs": [
        {
          "output_type": "display_data",
          "data": {
            "text/plain": [
              "<Figure size 640x480 with 1 Axes>"
            ],
            "image/png": "[encoded data removed]"
          },
          "metadata": {}
        }
      ]
    },
    {
      "cell_type": "markdown",
      "source": [
        "Nesecitamos convertir esta matrix a un vector para que pueda ingresar a nuestro imput layer y que este este cada numero en el rango del 0-1 (Normalizacion),esto es debido a que si el numero que pasa por la layers puede ser relativamente alto y puede desbordarse o requerir mas esfuerzo computacional."
      ],
      "metadata": {
        "id": "LapIAv1k4_eS"
      }
    },
    {
      "cell_type": "code",
      "source": [
        "x_train=x_train.reshape(-1,28*28).astype(\"float32\")/255.0\n",
        "x_test=x_test.reshape(-1,28*28).astype(\"float32\")/255.0\n",
        "print(x_train.shape)"
      ],
      "metadata": {
        "colab": {
          "base_uri": "https://localhost:8080/"
        },
        "id": "16c3N1vCzXeK",
        "outputId": "e2dbb1c7-b767-4118-f06b-3c4b19de718c"
      },
      "execution_count": null,
      "outputs": [
        {
          "output_type": "stream",
          "name": "stdout",
          "text": [
            "(60000, 784)\n"
          ]
        }
      ]
    },
    {
      "cell_type": "markdown",
      "source": [
        "### Secuential API (one input_layer - one output_layer:)\n",
        "####Arquitectura:\n",
        "Usamos el metodo Sequential para crear la arquitectura del modelo, un\n",
        "modelo de red neuronal con tres capas: dos capas ocultas con activación ReLU y una capa de salida sin activación (lineal) con 10 neuronas\n",
        "#### Con relu como funcion de activacion en las capas ocultas:"
      ],
      "metadata": {
        "id": "acxUll9Jq1ee"
      }
    },
    {
      "cell_type": "code",
      "source": [
        "model=keras.Sequential(\n",
        "    [\n",
        "        keras.Input(shape=(28*28)),\n",
        "        layers.Dense(512,activation='relu'),\n",
        "        layers.Dense(256,activation='relu'),\n",
        "        layers.Dense(10),\n",
        "    ]\n",
        ")\n",
        "print(model.summary())"
      ],
      "metadata": {
        "colab": {
          "base_uri": "https://localhost:8080/"
        },
        "id": "SfdVH-NArACG",
        "outputId": "6f3da127-968b-4bcc-e5c7-5fc69c1fa7d6"
      },
      "execution_count": null,
      "outputs": [
        {
          "output_type": "stream",
          "name": "stdout",
          "text": [
            "Model: \"sequential\"\n",
            "_________________________________________________________________\n",
            " Layer (type)                Output Shape              Param #   \n",
            "=================================================================\n",
            " dense (Dense)               (None, 512)               401920    \n",
            "                                                                 \n",
            " dense_1 (Dense)             (None, 256)               131328    \n",
            "                                                                 \n",
            " dense_2 (Dense)             (None, 10)                2570      \n",
            "                                                                 \n",
            "=================================================================\n",
            "Total params: 535818 (2.04 MB)\n",
            "Trainable params: 535818 (2.04 MB)\n",
            "Non-trainable params: 0 (0.00 Byte)\n",
            "_________________________________________________________________\n",
            "None\n"
          ]
        }
      ]
    },
    {
      "cell_type": "markdown",
      "source": [
        "####Con tanh como funcion de activacion en las 2 capas ocultas y usando otro metodo de instanciar el modelo:"
      ],
      "metadata": {
        "id": "ZN7bpORwJitW"
      }
    },
    {
      "cell_type": "code",
      "source": [
        "inputs=keras.Input(shape=(28*28))\n",
        "x=layers.Dense(512,activation='tanh')(inputs) #capa siguiente de inputs\n",
        "x=layers.Dense(256,activation='tanh')(x) #capa superpuesta de la anterior\n",
        "outputs=layers.Dense(10,activation='softmax')(x) # ultima capa superpuesta a la anterior\n",
        "model2=keras.Model(inputs=inputs,outputs=outputs) # se instancia el modelo definiendo los inputs y outputs"
      ],
      "metadata": {
        "id": "gvKrsEPlJ-_h"
      },
      "execution_count": null,
      "outputs": []
    },
    {
      "cell_type": "markdown",
      "source": [
        "####Compilacion:\n",
        "Compilaremos el modelo de red neuronal antes de entrenarlo. En esta etapa, se configuran aspectos clave del proceso de entrenamiento, como la función de pérdida, el optimizador y las métricas para evaluar el rendimiento del modelo durante el entrenamiento"
      ],
      "metadata": {
        "id": "r-oC2uG8PsYu"
      }
    },
    {
      "cell_type": "code",
      "source": [
        "model.compile(\n",
        "    #Funcion adecuada para problemas de clasificacion\n",
        "    #Sparse para ya no aplicar el hot encoding\n",
        "    #True porque indica que los datos llegan al final de la capa sin aplicar la funcion softmax\n",
        "    loss=keras.losses.SparseCategoricalCrossentropy(from_logits=True),\n",
        "    #Se utiliza el optimizador Adam y el learning rate indica que tanto cambia los parametros en busca de un minimo\n",
        "    optimizer=keras.optimizers.Adam(learning_rate=0.001),\n",
        "    metrics=[\"accuracy\"],\n",
        ")"
      ],
      "metadata": {
        "id": "tAp7AR8QreUO"
      },
      "execution_count": null,
      "outputs": []
    },
    {
      "cell_type": "code",
      "source": [
        "model2.compile(\n",
        "    loss=keras.losses.SparseCategoricalCrossentropy(from_logits=False),# false porque el modelo2 su output tiene la f.acticacion softmax\n",
        "    optimizer=keras.optimizers.SGD(learning_rate=0.01, momentum=0.9), #momentum es para acelerar la convergencia\n",
        "    metrics=[\"accuracy\"],\n",
        ")\n"
      ],
      "metadata": {
        "id": "XHyl42NoKF7p"
      },
      "execution_count": null,
      "outputs": []
    },
    {
      "cell_type": "markdown",
      "source": [
        "#### Entrenamiento:"
      ],
      "metadata": {
        "id": "s7F4WX8KRtRW"
      }
    },
    {
      "cell_type": "markdown",
      "source": [
        "El código `model.fit()` se utiliza para entrenar un modelo de red neuronal con los siguientes parámetros:\n",
        "\n",
        "- `x_train` y `y_train` son los datos de entrenamiento (imágenes y etiquetas).\n",
        "- `batch_size=32` indica que se actualizarán los pesos después de procesar lotes de 32 muestras a la vez(asi analizar el cambio de parametros de un subconjunto y no del general).\n",
        "- `epochs=5` especifica que se realizarán 5 épocas(cantidad de veces que el modelo se entrena con todo el conjunto) completas de entrenamiento.\n",
        "- `verbose=2` muestra información sobre precisión y pérdida en cada época.\n"
      ],
      "metadata": {
        "id": "Xa0BoOxbb4w5"
      }
    },
    {
      "cell_type": "code",
      "source": [
        "model.fit(x_train,y_train,batch_size=32,epochs=5,verbose=2)"
      ],
      "metadata": {
        "colab": {
          "base_uri": "https://localhost:8080/"
        },
        "id": "lo88phbsM7fp",
        "outputId": "a0a05e8c-9da6-413d-ceec-148a2064233e"
      },
      "execution_count": null,
      "outputs": [
        {
          "output_type": "stream",
          "name": "stdout",
          "text": [
            "Epoch 1/5\n",
            "1875/1875 - 9s - loss: 0.1890 - accuracy: 0.9426 - 9s/epoch - 5ms/step\n",
            "Epoch 2/5\n",
            "1875/1875 - 6s - loss: 0.0786 - accuracy: 0.9754 - 6s/epoch - 3ms/step\n",
            "Epoch 3/5\n",
            "1875/1875 - 5s - loss: 0.0546 - accuracy: 0.9823 - 5s/epoch - 3ms/step\n",
            "Epoch 4/5\n",
            "1875/1875 - 4s - loss: 0.0424 - accuracy: 0.9865 - 4s/epoch - 2ms/step\n",
            "Epoch 5/5\n",
            "1875/1875 - 5s - loss: 0.0338 - accuracy: 0.9888 - 5s/epoch - 3ms/step\n"
          ]
        },
        {
          "output_type": "execute_result",
          "data": {
            "text/plain": [
              "<keras.src.callbacks.History at 0x7bc931cf8d00>"
            ]
          },
          "metadata": {},
          "execution_count": 9
        }
      ]
    },
    {
      "cell_type": "code",
      "source": [
        "model2.fit(x_train,y_train,batch_size=32,epochs=5,verbose=2)"
      ],
      "metadata": {
        "colab": {
          "base_uri": "https://localhost:8080/"
        },
        "id": "v-84ik2uR4wW",
        "outputId": "ed4d456e-26dd-4042-c227-9ad286ac761c"
      },
      "execution_count": null,
      "outputs": [
        {
          "output_type": "stream",
          "name": "stdout",
          "text": [
            "Epoch 1/5\n",
            "1875/1875 - 4s - loss: 0.2924 - accuracy: 0.9135 - 4s/epoch - 2ms/step\n",
            "Epoch 2/5\n",
            "1875/1875 - 4s - loss: 0.1406 - accuracy: 0.9586 - 4s/epoch - 2ms/step\n",
            "Epoch 3/5\n",
            "1875/1875 - 4s - loss: 0.0973 - accuracy: 0.9707 - 4s/epoch - 2ms/step\n",
            "Epoch 4/5\n",
            "1875/1875 - 4s - loss: 0.0731 - accuracy: 0.9779 - 4s/epoch - 2ms/step\n",
            "Epoch 5/5\n",
            "1875/1875 - 4s - loss: 0.0561 - accuracy: 0.9825 - 4s/epoch - 2ms/step\n"
          ]
        },
        {
          "output_type": "execute_result",
          "data": {
            "text/plain": [
              "<keras.src.callbacks.History at 0x7bc91c2a8df0>"
            ]
          },
          "metadata": {},
          "execution_count": 11
        }
      ]
    },
    {
      "cell_type": "markdown",
      "source": [
        "#### Evaluacion:"
      ],
      "metadata": {
        "id": "vvnmN5j4Ryb-"
      }
    },
    {
      "cell_type": "markdown",
      "source": [
        "Se evalua el modelo en los datos de testeo (datos nunca antes vistos) y observamos su accuracy"
      ],
      "metadata": {
        "id": "-TuAOsdWc3yA"
      }
    },
    {
      "cell_type": "code",
      "source": [
        "model.evaluate(x_test,y_test,batch_size=32,verbose=2)"
      ],
      "metadata": {
        "colab": {
          "base_uri": "https://localhost:8080/"
        },
        "id": "ykT9pwVeNY67",
        "outputId": "48de1b1d-1af2-473c-f744-72bcc42c5c3c"
      },
      "execution_count": null,
      "outputs": [
        {
          "output_type": "stream",
          "name": "stdout",
          "text": [
            "313/313 - 1s - loss: 0.0830 - accuracy: 0.9780 - 957ms/epoch - 3ms/step\n"
          ]
        },
        {
          "output_type": "execute_result",
          "data": {
            "text/plain": [
              "[0.08295479416847229, 0.9779999852180481]"
            ]
          },
          "metadata": {},
          "execution_count": 12
        }
      ]
    },
    {
      "cell_type": "code",
      "source": [
        "model2.evaluate(x_test,y_test,batch_size=32,verbose=2)"
      ],
      "metadata": {
        "colab": {
          "base_uri": "https://localhost:8080/"
        },
        "id": "YUqyQQONR7Jt",
        "outputId": "c45a9f8b-fdf9-44d0-b9f3-44b82f1e97ab"
      },
      "execution_count": null,
      "outputs": [
        {
          "output_type": "stream",
          "name": "stdout",
          "text": [
            "313/313 - 1s - loss: 0.0740 - accuracy: 0.9770 - 652ms/epoch - 2ms/step\n"
          ]
        },
        {
          "output_type": "execute_result",
          "data": {
            "text/plain": [
              "[0.07404767721891403, 0.9769999980926514]"
            ]
          },
          "metadata": {},
          "execution_count": 13
        }
      ]
    },
    {
      "cell_type": "markdown",
      "source": [
        "## Evaluación de un Modelo de Clasificación con Métricas\n",
        "\n",
        "En este ejemplo, se muestra cómo evaluar un modelo de clasificación en TensorFlow y Keras utilizando diferentes métricas, como precisión, recuperación y puntuación F1. Esto se hace utilizando la función `classification_report` de scikit-learn.\n",
        "\n",
        "1. Se realizan predicciones en el conjunto de datos de prueba utilizando el modelo entrenado.\n",
        "2. Las predicciones de probabilidad se convierten en etiquetas de clase.\n",
        "3. Se genera un informe de clasificación que incluye métricas detalladas para cada clase en el conjunto de datos de prueba.\n",
        "\n",
        "Este enfoque proporciona una visión detallada del rendimiento del modelo en la tarea de clasificación, ayudando a evaluar su capacidad para predecir correctamente las etiquetas de clase.\n"
      ],
      "metadata": {
        "id": "RpE6eHTIguil"
      }
    },
    {
      "cell_type": "code",
      "source": [
        "from sklearn.metrics import classification_report\n",
        "\n",
        "# Predecir las clases en el conjunto de datos de prueba\n",
        "y_pred = model.predict(x_test)\n",
        "\n",
        "# Convertir las predicciones de probabilidad en etiquetas de clase\n",
        "y_pred_classes = np.argmax(y_pred, axis=1)\n",
        "\n",
        "# Generar el informe de clasificación\n",
        "report = classification_report(y_test, y_pred_classes)\n",
        "\n",
        "# Imprimir el informe de clasificación\n",
        "print(report)\n"
      ],
      "metadata": {
        "colab": {
          "base_uri": "https://localhost:8080/"
        },
        "id": "Ews8fccbgY-C",
        "outputId": "8cb2c849-95b4-476b-c3ab-f4d7548f80b5"
      },
      "execution_count": null,
      "outputs": [
        {
          "output_type": "stream",
          "name": "stdout",
          "text": [
            "313/313 [==============================] - 2s 5ms/step\n",
            "              precision    recall  f1-score   support\n",
            "\n",
            "           0       0.99      0.99      0.99       980\n",
            "           1       1.00      0.99      0.99      1135\n",
            "           2       0.98      0.98      0.98      1032\n",
            "           3       0.97      0.97      0.97      1010\n",
            "           4       0.97      0.98      0.98       982\n",
            "           5       0.99      0.96      0.97       892\n",
            "           6       0.99      0.98      0.98       958\n",
            "           7       0.97      0.98      0.97      1028\n",
            "           8       0.97      0.97      0.97       974\n",
            "           9       0.96      0.97      0.97      1009\n",
            "\n",
            "    accuracy                           0.98     10000\n",
            "   macro avg       0.98      0.98      0.98     10000\n",
            "weighted avg       0.98      0.98      0.98     10000\n",
            "\n"
          ]
        }
      ]
    },
    {
      "cell_type": "markdown",
      "source": [
        "### Analisis de errores:\n",
        "observaremos los digitos en el que el modelo se equivoco y analizaremos su fue un error grande o no."
      ],
      "metadata": {
        "id": "EXX5LA3BSvxe"
      }
    },
    {
      "cell_type": "code",
      "source": [
        "import matplotlib.pyplot as plt\n",
        "import numpy as np\n",
        "\n",
        "predictions = model.predict(x_test)\n",
        "predicted_classes = np.argmax(predictions, axis=1)\n",
        "\n",
        "# Identificar los índices donde las predicciones fueron incorrectas\n",
        "misclassified_indices = np.where(predicted_classes != y_test)[0]\n",
        "\n",
        "# Número de imágenes mal clasificadas a mostrar\n",
        "num_images_to_show = 9\n",
        "\n",
        "# Crear subplots\n",
        "plt.figure(figsize=(9, 9))\n",
        "\n",
        "for i, index in enumerate(misclassified_indices[:num_images_to_show]):\n",
        "    plt.subplot(3, 3, i + 1)\n",
        "    plt.imshow(x_test[index].reshape(28, 28), cmap='gray')\n",
        "    plt.title(f\"Pred: {predicted_classes[index]}, Real: {y_test[index]}\")\n",
        "    plt.axis('off')\n",
        "\n",
        "plt.tight_layout()\n",
        "plt.show()\n"
      ],
      "metadata": {
        "colab": {
          "base_uri": "https://localhost:8080/",
          "height": 923
        },
        "id": "nf2SZilBSzrB",
        "outputId": "fcce2742-ee06-48da-c691-54fab431e926"
      },
      "execution_count": null,
      "outputs": [
        {
          "output_type": "stream",
          "name": "stdout",
          "text": [
            "313/313 [==============================] - 1s 2ms/step\n"
          ]
        },
        {
          "output_type": "display_data",
          "data": {
            "text/plain": [
              "<Figure size 900x900 with 9 Axes>"
            ],
            "image/png": "[encoded data removed]"
          },
          "metadata": {}
        }
      ]
    },
    {
      "cell_type": "code",
      "source": [
        "predictions = model2.predict(x_test)\n",
        "predicted_classes = np.argmax(predictions, axis=1)\n",
        "\n",
        "# Identificar los índices donde las predicciones fueron incorrectas\n",
        "misclassified_indices = np.where(predicted_classes != y_test)[0]\n",
        "\n",
        "# Número de imágenes mal clasificadas a mostrar\n",
        "num_images_to_show = 9\n",
        "\n",
        "# Crear subplots\n",
        "plt.figure(figsize=(9, 9))\n",
        "\n",
        "for i, index in enumerate(misclassified_indices[:num_images_to_show]):\n",
        "    plt.subplot(3, 3, i + 1)\n",
        "    plt.imshow(x_test[index].reshape(28, 28), cmap='gray')\n",
        "    plt.title(f\"Pred: {predicted_classes[index]}, Real: {y_test[index]}\")\n",
        "    plt.axis('off')\n",
        "\n",
        "plt.tight_layout()\n",
        "plt.show()"
      ],
      "metadata": {
        "colab": {
          "base_uri": "https://localhost:8080/",
          "height": 923
        },
        "id": "UHgbhDeoTdQ-",
        "outputId": "e70db0eb-2a80-4e65-a204-a7e7d999b9c7"
      },
      "execution_count": null,
      "outputs": [
        {
          "output_type": "stream",
          "name": "stdout",
          "text": [
            "313/313 [==============================] - 1s 2ms/step\n"
          ]
        },
        {
          "output_type": "display_data",
          "data": {
            "text/plain": [
              "<Figure size 900x900 with 9 Axes>"
            ],
            "image/png": "[encoded data removed]"
          },
          "metadata": {}
        }
      ]
    }
  ]
}