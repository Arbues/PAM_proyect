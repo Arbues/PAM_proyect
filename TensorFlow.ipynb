{
  "cells": [
    {
      "cell_type": "markdown",
      "metadata": {
        "colab_type": "text",
        "id": "view-in-github"
      },
      "source": [
        "<a href=\"https://colab.research.google.com/github/Arbues/PAM_proyect/blob/main/TensorFlow.ipynb\" target=\"_parent\"><img src=\"https://colab.research.google.com/assets/colab-badge.svg\" alt=\"Open In Colab\"/></a>"
      ]
    },
    {
      "cell_type": "markdown",
      "metadata": {
        "id": "dUodOOt7UdcS"
      },
      "source": [
        "# Tensorflow\n",
        "###Tensor:\n",
        "Matrix multidimensional que tiene la capacidad de ejecutarse en la gpu\n",
        "Ejemplo de un tensor en diferentes dimensiones:\n",
        "![](https://i.imgur.com/cWtTjDh.png)"
      ]
    },
    {
      "cell_type": "markdown",
      "metadata": {
        "id": "-QN7fuQowvZb"
      },
      "source": [
        "# Redes Neuronales\n",
        "### Importaciones y carga de datos:"
      ]
    },
    {
      "cell_type": "code",
      "execution_count": 20,
      "metadata": {
        "colab": {
          "base_uri": "https://localhost:8080/"
        },
        "id": "ch7iTVafXb8Z",
        "outputId": "9ff85cca-30d7-43c7-eede-02f878ee27af"
      },
      "outputs": [],
      "source": [
        "import os\n",
        "import matplotlib.pyplot as plt\n",
        "os.environ['TF_CPP_MIN_LOG_LEVEL']='2'\n",
        "import tensorflow as tf\n",
        "import numpy as np\n",
        "from tensorflow import keras\n",
        "from tensorflow.keras import layers\n",
        "from tensorflow.keras.datasets import mnist\n",
        "(x_train,y_train),(x_test,y_test)=mnist.load_data()\n"
      ]
    },
    {
      "cell_type": "code",
      "execution_count": null,
      "metadata": {},
      "outputs": [],
      "source": [
        "(x_train,y_train),(x_test,y_test)=mnist.load_data()\n",
        "model=keras.Sequential(\n",
        "    [\n",
        "        keras.Input(shape=(28*28)),\n",
        "        layers.Dense(512,activation='relu'),\n",
        "        layers.Dense(256,activation='relu'),\n",
        "        layers.Dense(10),\n",
        "    ]\n",
        ")\n",
        "model.compile(\n",
        "    loss=keras.losses.SparseCategoricalCrossentropy(from_logits=True),\n",
        "    optimizer=keras.optimizers.Adam(learning_rate=0.001),\n",
        "    metrics=[\"accuracy\"],\n",
        ")"
      ]
    },
    {
      "cell_type": "markdown",
      "metadata": {
        "id": "gHR2QLJgzZDy"
      },
      "source": [
        "### Analisis de los datos:\n",
        "Comprederemos la estructura y las características de los datos con los que estás trabajando antes de realizar cualquier análisis o entrenar un modelo de aprendizaje automático."
      ]
    },
    {
      "cell_type": "code",
      "execution_count": 21,
      "metadata": {
        "colab": {
          "base_uri": "https://localhost:8080/",
          "height": 175
        },
        "id": "WKGknnOo2nX6",
        "outputId": "1909e886-ee36-46bb-96d3-d40b5f970e93"
      },
      "outputs": [
        {
          "data": {
            "text/html": [
              "<div>\n",
              "<style scoped>\n",
              "    .dataframe tbody tr th:only-of-type {\n",
              "        vertical-align: middle;\n",
              "    }\n",
              "\n",
              "    .dataframe tbody tr th {\n",
              "        vertical-align: top;\n",
              "    }\n",
              "\n",
              "    .dataframe thead th {\n",
              "        text-align: right;\n",
              "    }\n",
              "</style>\n",
              "<table border=\"1\" class=\"dataframe\">\n",
              "  <thead>\n",
              "    <tr style=\"text-align: right;\">\n",
              "      <th></th>\n",
              "      <th>Variable</th>\n",
              "      <th>Tipo de Dato</th>\n",
              "      <th>Forma</th>\n",
              "      <th>Tipo de Datos</th>\n",
              "      <th>Máximo Valor</th>\n",
              "    </tr>\n",
              "  </thead>\n",
              "  <tbody>\n",
              "    <tr>\n",
              "      <th>0</th>\n",
              "      <td>x_train</td>\n",
              "      <td>&lt;class 'numpy.ndarray'&gt;</td>\n",
              "      <td>(60000, 28, 28)</td>\n",
              "      <td>uint8</td>\n",
              "      <td>255</td>\n",
              "    </tr>\n",
              "    <tr>\n",
              "      <th>1</th>\n",
              "      <td>y_train</td>\n",
              "      <td>&lt;class 'numpy.ndarray'&gt;</td>\n",
              "      <td>(60000,)</td>\n",
              "      <td>uint8</td>\n",
              "      <td>9</td>\n",
              "    </tr>\n",
              "    <tr>\n",
              "      <th>2</th>\n",
              "      <td>x_test</td>\n",
              "      <td>&lt;class 'numpy.ndarray'&gt;</td>\n",
              "      <td>(10000, 28, 28)</td>\n",
              "      <td>uint8</td>\n",
              "      <td>255</td>\n",
              "    </tr>\n",
              "    <tr>\n",
              "      <th>3</th>\n",
              "      <td>y_test</td>\n",
              "      <td>&lt;class 'numpy.ndarray'&gt;</td>\n",
              "      <td>(10000,)</td>\n",
              "      <td>uint8</td>\n",
              "      <td>9</td>\n",
              "    </tr>\n",
              "  </tbody>\n",
              "</table>\n",
              "</div>"
            ],
            "text/plain": [
              "  Variable             Tipo de Dato            Forma Tipo de Datos  \\\n",
              "0  x_train  <class 'numpy.ndarray'>  (60000, 28, 28)         uint8   \n",
              "1  y_train  <class 'numpy.ndarray'>         (60000,)         uint8   \n",
              "2   x_test  <class 'numpy.ndarray'>  (10000, 28, 28)         uint8   \n",
              "3   y_test  <class 'numpy.ndarray'>         (10000,)         uint8   \n",
              "\n",
              "   Máximo Valor  \n",
              "0           255  \n",
              "1             9  \n",
              "2           255  \n",
              "3             9  "
            ]
          },
          "execution_count": 21,
          "metadata": {},
          "output_type": "execute_result"
        }
      ],
      "source": [
        "import pandas as pd\n",
        "\n",
        "# Crear un DataFrame para mostrar la información\n",
        "data = {\n",
        "    'Variable': ['x_train', 'y_train', 'x_test', 'y_test'],\n",
        "    'Tipo de Dato': [type(x_train), type(y_train), type(x_test), type(y_test)],\n",
        "    'Forma': [x_train.shape, y_train.shape, x_test.shape, y_test.shape],\n",
        "    'Tipo de Datos': [x_train.dtype, y_train.dtype, x_test.dtype, y_test.dtype],\n",
        "    'Máximo Valor': [x_train.max(), y_train.max(), x_test.max(), y_test.max()]\n",
        "}\n",
        "\n",
        "df = pd.DataFrame(data)\n",
        "\n",
        "# Mostrar el DataFrame\n",
        "df"
      ]
    },
    {
      "cell_type": "markdown",
      "metadata": {
        "id": "b1tSlJQflyeH"
      },
      "source": [
        "Observaremos quue cada numero escrito a mano esta representado por una matrix 28*28:\n"
      ]
    },
    {
      "cell_type": "code",
      "execution_count": 22,
      "metadata": {
        "colab": {
          "base_uri": "https://localhost:8080/",
          "height": 428
        },
        "id": "V3DSObPqjD79",
        "outputId": "3061960b-4802-43cb-8e2b-51e8c1507f92"
      },
      "outputs": [
        {
          "data": {
            "image/png": "[encoded data removed]",
            "text/plain": [
              "<Figure size 640x480 with 1 Axes>"
            ]
          },
          "metadata": {},
          "output_type": "display_data"
        }
      ],
      "source": [
        "import random\n",
        "random_index = random.randint(0, len(x_train) - 1)\n",
        "\n",
        "# Muestra la imagen correspondiente al índice seleccionado\n",
        "plt.imshow(x_train[random_index], cmap='gray')  # cmap='gray' muestra la imagen en escala de grises\n",
        "plt.title(f\"Etiqueta: {y_train[random_index]}\")  # Muestra la etiqueta correspondiente a la imagen\n",
        "plt.axis('off')  # Desactiva los ejes\n",
        "plt.show()"
      ]
    },
    {
      "cell_type": "markdown",
      "metadata": {
        "id": "LapIAv1k4_eS"
      },
      "source": [
        "Nesecitamos convertir esta matrix a un vector para que pueda ingresar a nuestro imput layer y que este este cada numero en el rango del 0-1 (Normalizacion),esto es debido a que si el numero que pasa por la layers puede ser relativamente alto y puede desbordarse o requerir mas esfuerzo computacional."
      ]
    },
    {
      "cell_type": "code",
      "execution_count": 23,
      "metadata": {
        "colab": {
          "base_uri": "https://localhost:8080/"
        },
        "id": "16c3N1vCzXeK",
        "outputId": "e2dbb1c7-b767-4118-f06b-3c4b19de718c"
      },
      "outputs": [
        {
          "name": "stdout",
          "output_type": "stream",
          "text": [
            "(60000, 784)\n"
          ]
        }
      ],
      "source": [
        "x_train=x_train.reshape(-1,28*28).astype(\"float32\")/255.0\n",
        "x_test=x_test.reshape(-1,28*28).astype(\"float32\")/255.0\n",
        "print(x_train.shape)"
      ]
    },
    {
      "cell_type": "markdown",
      "metadata": {
        "id": "acxUll9Jq1ee"
      },
      "source": [
        "### Secuential API (one input_layer - one output_layer:)\n",
        "####Arquitectura:\n",
        "Usamos el metodo Sequential para crear la arquitectura del modelo, un\n",
        "modelo de red neuronal con tres capas: dos capas ocultas con activación ReLU y una capa de salida sin activación (lineal) con 10 neuronas\n",
        "#### Con relu como funcion de activacion en las capas ocultas:"
      ]
    },
    {
      "cell_type": "code",
      "execution_count": 24,
      "metadata": {
        "colab": {
          "base_uri": "https://localhost:8080/"
        },
        "id": "SfdVH-NArACG",
        "outputId": "6f3da127-968b-4bcc-e5c7-5fc69c1fa7d6"
      },
      "outputs": [
        {
          "name": "stdout",
          "output_type": "stream",
          "text": [
            "Model: \"sequential_1\"\n",
            "_________________________________________________________________\n",
            " Layer (type)                Output Shape              Param #   \n",
            "=================================================================\n",
            " dense_6 (Dense)             (None, 512)               401920    \n",
            "                                                                 \n",
            " dense_7 (Dense)             (None, 256)               131328    \n",
            "                                                                 \n",
            " dense_8 (Dense)             (None, 10)                2570      \n",
            "                                                                 \n",
            "=================================================================\n",
            "Total params: 535818 (2.04 MB)\n",
            "Trainable params: 535818 (2.04 MB)\n",
            "Non-trainable params: 0 (0.00 Byte)\n",
            "_________________________________________________________________\n",
            "None\n"
          ]
        }
      ],
      "source": [
        "model=keras.Sequential(\n",
        "    [\n",
        "        keras.Input(shape=(28*28)),\n",
        "        layers.Dense(512,activation='relu'),\n",
        "        layers.Dense(256,activation='relu'),\n",
        "        layers.Dense(10),\n",
        "    ]\n",
        ")\n",
        "print(model.summary())"
      ]
    },
    {
      "cell_type": "markdown",
      "metadata": {
        "id": "ZN7bpORwJitW"
      },
      "source": [
        "####Con tanh como funcion de activacion en las 2 capas ocultas y usando otro metodo de instanciar el modelo:"
      ]
    },
    {
      "cell_type": "code",
      "execution_count": 25,
      "metadata": {
        "id": "gvKrsEPlJ-_h"
      },
      "outputs": [],
      "source": [
        "inputs=keras.Input(shape=(28*28))\n",
        "x=layers.Dense(512,activation='tanh')(inputs) #capa siguiente de inputs\n",
        "x=layers.Dense(256,activation='tanh')(x) #capa superpuesta de la anterior\n",
        "outputs=layers.Dense(10,activation='softmax')(x) # ultima capa superpuesta a la anterior\n",
        "model2=keras.Model(inputs=inputs,outputs=outputs) # se instancia el modelo definiendo los inputs y outputs"
      ]
    },
    {
      "cell_type": "markdown",
      "metadata": {
        "id": "r-oC2uG8PsYu"
      },
      "source": [
        "####Compilacion:\n",
        "Compilaremos el modelo de red neuronal antes de entrenarlo. En esta etapa, se configuran aspectos clave del proceso de entrenamiento, como la función de pérdida, el optimizador y las métricas para evaluar el rendimiento del modelo durante el entrenamiento"
      ]
    },
    {
      "cell_type": "code",
      "execution_count": 26,
      "metadata": {
        "id": "tAp7AR8QreUO"
      },
      "outputs": [],
      "source": [
        "model.compile(\n",
        "    #Funcion adecuada para problemas de clasificacion\n",
        "    #Sparse para ya no aplicar el hot encoding\n",
        "    #True porque indica que los datos llegan al final de la capa sin aplicar la funcion softmax\n",
        "    loss=keras.losses.SparseCategoricalCrossentropy(from_logits=True),\n",
        "    #Se utiliza el optimizador Adam y el learning rate indica que tanto cambia los parametros en busca de un minimo\n",
        "    optimizer=keras.optimizers.Adam(learning_rate=0.001),\n",
        "    metrics=[\"accuracy\"],\n",
        ")"
      ]
    },
    {
      "cell_type": "code",
      "execution_count": 27,
      "metadata": {
        "id": "XHyl42NoKF7p"
      },
      "outputs": [],
      "source": [
        "model2.compile(\n",
        "    loss=keras.losses.SparseCategoricalCrossentropy(from_logits=False),# false porque el modelo2 su output tiene la f.acticacion softmax\n",
        "    optimizer=keras.optimizers.SGD(learning_rate=0.01, momentum=0.9), #momentum es para acelerar la convergencia\n",
        "    metrics=[\"accuracy\"],\n",
        ")\n"
      ]
    },
    {
      "cell_type": "markdown",
      "metadata": {
        "id": "s7F4WX8KRtRW"
      },
      "source": [
        "#### Entrenamiento:"
      ]
    },
    {
      "cell_type": "markdown",
      "metadata": {
        "id": "Xa0BoOxbb4w5"
      },
      "source": [
        "El código `model.fit()` se utiliza para entrenar un modelo de red neuronal con los siguientes parámetros:\n",
        "\n",
        "- `x_train` y `y_train` son los datos de entrenamiento (imágenes y etiquetas).\n",
        "- `batch_size=32` indica que se actualizarán los pesos después de procesar lotes de 32 muestras a la vez(asi analizar el cambio de parametros de un subconjunto y no del general).\n",
        "- `epochs=5` especifica que se realizarán 5 épocas(cantidad de veces que el modelo se entrena con todo el conjunto) completas de entrenamiento.\n",
        "- `verbose=2` muestra información sobre precisión y pérdida en cada época.\n"
      ]
    },
    {
      "cell_type": "code",
      "execution_count": 28,
      "metadata": {
        "colab": {
          "base_uri": "https://localhost:8080/"
        },
        "id": "lo88phbsM7fp",
        "outputId": "a0a05e8c-9da6-413d-ceec-148a2064233e"
      },
      "outputs": [
        {
          "name": "stdout",
          "output_type": "stream",
          "text": [
            "Epoch 1/5\n",
            "1875/1875 - 13s - loss: 0.1869 - accuracy: 0.9430 - 13s/epoch - 7ms/step\n",
            "Epoch 2/5\n",
            "1875/1875 - 14s - loss: 0.0767 - accuracy: 0.9758 - 14s/epoch - 7ms/step\n",
            "Epoch 3/5\n",
            "1875/1875 - 15s - loss: 0.0538 - accuracy: 0.9824 - 15s/epoch - 8ms/step\n",
            "Epoch 4/5\n",
            "1875/1875 - 11s - loss: 0.0423 - accuracy: 0.9867 - 11s/epoch - 6ms/step\n",
            "Epoch 5/5\n",
            "1875/1875 - 16s - loss: 0.0325 - accuracy: 0.9895 - 16s/epoch - 8ms/step\n"
          ]
        },
        {
          "data": {
            "text/plain": [
              "<keras.src.callbacks.History at 0x209c3efed50>"
            ]
          },
          "execution_count": 28,
          "metadata": {},
          "output_type": "execute_result"
        }
      ],
      "source": [
        "model.fit(x_train,y_train,batch_size=32,epochs=5,verbose=2)"
      ]
    },
    {
      "cell_type": "code",
      "execution_count": 29,
      "metadata": {
        "colab": {
          "base_uri": "https://localhost:8080/"
        },
        "id": "v-84ik2uR4wW",
        "outputId": "ed4d456e-26dd-4042-c227-9ad286ac761c"
      },
      "outputs": [
        {
          "name": "stdout",
          "output_type": "stream",
          "text": [
            "Epoch 1/5\n",
            "1875/1875 - 13s - loss: 0.2942 - accuracy: 0.9126 - 13s/epoch - 7ms/step\n",
            "Epoch 2/5\n",
            "1875/1875 - 12s - loss: 0.1434 - accuracy: 0.9575 - 12s/epoch - 6ms/step\n",
            "Epoch 3/5\n",
            "1875/1875 - 13s - loss: 0.0978 - accuracy: 0.9704 - 13s/epoch - 7ms/step\n",
            "Epoch 4/5\n",
            "1875/1875 - 15s - loss: 0.0734 - accuracy: 0.9776 - 15s/epoch - 8ms/step\n",
            "Epoch 5/5\n",
            "1875/1875 - 14s - loss: 0.0573 - accuracy: 0.9826 - 14s/epoch - 7ms/step\n"
          ]
        },
        {
          "data": {
            "text/plain": [
              "<keras.src.callbacks.History at 0x209be6d8410>"
            ]
          },
          "execution_count": 29,
          "metadata": {},
          "output_type": "execute_result"
        }
      ],
      "source": [
        "model2.fit(x_train,y_train,batch_size=32,epochs=5,verbose=2)"
      ]
    },
    {
      "cell_type": "markdown",
      "metadata": {
        "id": "vvnmN5j4Ryb-"
      },
      "source": [
        "#### Evaluacion:"
      ]
    },
    {
      "cell_type": "markdown",
      "metadata": {
        "id": "-TuAOsdWc3yA"
      },
      "source": [
        "Se evalua el modelo en los datos de testeo (datos nunca antes vistos) y observamos su accuracy"
      ]
    },
    {
      "cell_type": "code",
      "execution_count": 30,
      "metadata": {
        "colab": {
          "base_uri": "https://localhost:8080/"
        },
        "id": "ykT9pwVeNY67",
        "outputId": "48de1b1d-1af2-473c-f744-72bcc42c5c3c"
      },
      "outputs": [
        {
          "name": "stdout",
          "output_type": "stream",
          "text": [
            "313/313 - 2s - loss: 0.0722 - accuracy: 0.9813 - 2s/epoch - 7ms/step\n"
          ]
        },
        {
          "data": {
            "text/plain": [
              "[0.07223618775606155, 0.9812999963760376]"
            ]
          },
          "execution_count": 30,
          "metadata": {},
          "output_type": "execute_result"
        }
      ],
      "source": [
        "model.evaluate(x_test,y_test,batch_size=32,verbose=2)"
      ]
    },
    {
      "cell_type": "code",
      "execution_count": 31,
      "metadata": {
        "colab": {
          "base_uri": "https://localhost:8080/"
        },
        "id": "YUqyQQONR7Jt",
        "outputId": "c45a9f8b-fdf9-44d0-b9f3-44b82f1e97ab"
      },
      "outputs": [
        {
          "name": "stdout",
          "output_type": "stream",
          "text": [
            "313/313 - 2s - loss: 0.0735 - accuracy: 0.9768 - 2s/epoch - 6ms/step\n"
          ]
        },
        {
          "data": {
            "text/plain": [
              "[0.07348205894231796, 0.9768000245094299]"
            ]
          },
          "execution_count": 31,
          "metadata": {},
          "output_type": "execute_result"
        }
      ],
      "source": [
        "model2.evaluate(x_test,y_test,batch_size=32,verbose=2)"
      ]
    },
    {
      "cell_type": "markdown",
      "metadata": {
        "id": "RpE6eHTIguil"
      },
      "source": [
        "## Evaluación de un Modelo de Clasificación con Métricas\n",
        "\n",
        "En este ejemplo, se muestra cómo evaluar un modelo de clasificación en TensorFlow y Keras utilizando diferentes métricas, como precisión, recuperación y puntuación F1. Esto se hace utilizando la función `classification_report` de scikit-learn.\n",
        "\n",
        "1. Se realizan predicciones en el conjunto de datos de prueba utilizando el modelo entrenado.\n",
        "2. Las predicciones de probabilidad se convierten en etiquetas de clase.\n",
        "3. Se genera un informe de clasificación que incluye métricas detalladas para cada clase en el conjunto de datos de prueba.\n",
        "\n",
        "Este enfoque proporciona una visión detallada del rendimiento del modelo en la tarea de clasificación, ayudando a evaluar su capacidad para predecir correctamente las etiquetas de clase.\n"
      ]
    },
    {
      "cell_type": "code",
      "execution_count": 32,
      "metadata": {
        "colab": {
          "base_uri": "https://localhost:8080/"
        },
        "id": "Ews8fccbgY-C",
        "outputId": "8cb2c849-95b4-476b-c3ab-f4d7548f80b5"
      },
      "outputs": [
        {
          "name": "stdout",
          "output_type": "stream",
          "text": [
            "313/313 [==============================] - 2s 5ms/step\n",
            "              precision    recall  f1-score   support\n",
            "\n",
            "           0       0.98      0.99      0.99       980\n",
            "           1       0.99      1.00      0.99      1135\n",
            "           2       0.99      0.98      0.98      1032\n",
            "           3       0.97      0.99      0.98      1010\n",
            "           4       0.99      0.97      0.98       982\n",
            "           5       0.99      0.98      0.98       892\n",
            "           6       0.99      0.98      0.98       958\n",
            "           7       0.98      0.98      0.98      1028\n",
            "           8       0.98      0.98      0.98       974\n",
            "           9       0.96      0.98      0.97      1009\n",
            "\n",
            "    accuracy                           0.98     10000\n",
            "   macro avg       0.98      0.98      0.98     10000\n",
            "weighted avg       0.98      0.98      0.98     10000\n",
            "\n"
          ]
        }
      ],
      "source": [
        "from sklearn.metrics import classification_report\n",
        "\n",
        "# Predecir las clases en el conjunto de datos de prueba\n",
        "y_pred = model.predict(x_test)\n",
        "\n",
        "# Convertir las predicciones de probabilidad en etiquetas de clase\n",
        "y_pred_classes = np.argmax(y_pred, axis=1)\n",
        "\n",
        "# Generar el informe de clasificación\n",
        "report = classification_report(y_test, y_pred_classes)\n",
        "\n",
        "# Imprimir el informe de clasificación\n",
        "print(report)\n"
      ]
    },
    {
      "cell_type": "markdown",
      "metadata": {
        "id": "EXX5LA3BSvxe"
      },
      "source": [
        "### Analisis de errores:\n",
        "observaremos los digitos en el que el modelo se equivoco y analizaremos su fue un error grande o no."
      ]
    },
    {
      "cell_type": "code",
      "execution_count": 33,
      "metadata": {
        "colab": {
          "base_uri": "https://localhost:8080/",
          "height": 923
        },
        "id": "nf2SZilBSzrB",
        "outputId": "fcce2742-ee06-48da-c691-54fab431e926"
      },
      "outputs": [
        {
          "name": "stdout",
          "output_type": "stream",
          "text": [
            "313/313 [==============================] - 1s 3ms/step\n"
          ]
        },
        {
          "data": {
            "image/png": "[encoded data removed]",
            "text/plain": [
              "<Figure size 900x900 with 9 Axes>"
            ]
          },
          "metadata": {},
          "output_type": "display_data"
        }
      ],
      "source": [
        "import matplotlib.pyplot as plt\n",
        "import numpy as np\n",
        "\n",
        "predictions = model.predict(x_test)\n",
        "predicted_classes = np.argmax(predictions, axis=1)\n",
        "\n",
        "# Identificar los índices donde las predicciones fueron incorrectas\n",
        "misclassified_indices = np.where(predicted_classes != y_test)[0]\n",
        "\n",
        "# Número de imágenes mal clasificadas a mostrar\n",
        "num_images_to_show = 9\n",
        "\n",
        "# Crear subplots\n",
        "plt.figure(figsize=(9, 9))\n",
        "\n",
        "for i, index in enumerate(misclassified_indices[:num_images_to_show]):\n",
        "    plt.subplot(3, 3, i + 1)\n",
        "    plt.imshow(x_test[index].reshape(28, 28), cmap='gray')\n",
        "    plt.title(f\"Pred: {predicted_classes[index]}, Real: {y_test[index]}\")\n",
        "    plt.axis('off')\n",
        "\n",
        "plt.tight_layout()\n",
        "plt.show()\n"
      ]
    },
    {
      "cell_type": "code",
      "execution_count": 34,
      "metadata": {
        "colab": {
          "base_uri": "https://localhost:8080/",
          "height": 923
        },
        "id": "UHgbhDeoTdQ-",
        "outputId": "e70db0eb-2a80-4e65-a204-a7e7d999b9c7"
      },
      "outputs": [
        {
          "name": "stdout",
          "output_type": "stream",
          "text": [
            "313/313 [==============================] - 2s 5ms/step\n"
          ]
        },
        {
          "data": {
            "image/png": "[encoded data removed]",
            "text/plain": [
              "<Figure size 900x900 with 9 Axes>"
            ]
          },
          "metadata": {},
          "output_type": "display_data"
        }
      ],
      "source": [
        "predictions = model2.predict(x_test)\n",
        "predicted_classes = np.argmax(predictions, axis=1)\n",
        "\n",
        "# Identificar los índices donde las predicciones fueron incorrectas\n",
        "misclassified_indices = np.where(predicted_classes != y_test)[0]\n",
        "\n",
        "# Número de imágenes mal clasificadas a mostrar\n",
        "num_images_to_show = 9\n",
        "\n",
        "# Crear subplots\n",
        "plt.figure(figsize=(9, 9))\n",
        "\n",
        "for i, index in enumerate(misclassified_indices[:num_images_to_show]):\n",
        "    plt.subplot(3, 3, i + 1)\n",
        "    plt.imshow(x_test[index].reshape(28, 28), cmap='gray')\n",
        "    plt.title(f\"Pred: {predicted_classes[index]}, Real: {y_test[index]}\")\n",
        "    plt.axis('off')\n",
        "\n",
        "plt.tight_layout()\n",
        "plt.show()"
      ]
    },
    {
      "cell_type": "code",
      "execution_count": 35,
      "metadata": {},
      "outputs": [
        {
          "name": "stderr",
          "output_type": "stream",
          "text": [
            "C:\\Users\\kikhe\\AppData\\Roaming\\Python\\Python311\\site-packages\\keras\\src\\engine\\training.py:3103: UserWarning: You are saving your model as an HDF5 file via `model.save()`. This file format is considered legacy. We recommend using instead the native Keras format, e.g. `model.save('my_model.keras')`.\n",
            "  saving_api.save_model(\n"
          ]
        }
      ],
      "source": [
        "model.save(\"clf_entrenado_tSFL1.h5\")\n",
        "model2.save(\"clf_entrenado_tSFL2.h5\")"
      ]
    }
  ],
  "metadata": {
    "accelerator": "GPU",
    "colab": {
      "authorship_tag": "ABX9TyNiG9Szgne82iVJy3dV285y",
      "gpuType": "T4",
      "include_colab_link": true,
      "provenance": [],
      "toc_visible": true
    },
    "kernelspec": {
      "display_name": "Python 3",
      "name": "python3"
    },
    "language_info": {
      "codemirror_mode": {
        "name": "ipython",
        "version": 3
      },
      "file_extension": ".py",
      "mimetype": "text/x-python",
      "name": "python",
      "nbconvert_exporter": "python",
      "pygments_lexer": "ipython3",
      "version": "3.11.4"
    }
  },
  "nbformat": 4,
  "nbformat_minor": 0
}
